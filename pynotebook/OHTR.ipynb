{
 "cells": [
  {
   "cell_type": "markdown",
   "metadata": {},
   "source": [
    "LB and teat model are requred for the prediction .... dont worry about those "
   ]
  },
  {
   "cell_type": "code",
   "execution_count": null,
   "metadata": {},
   "outputs": [],
   "source": [
    "LB = load(\n",
    "    open('../model/labels', 'rb'))\n",
    "teat_model = load_model('../model/model_1')\n"
   ]
  },
  {
   "cell_type": "code",
   "execution_count": null,
   "metadata": {},
   "outputs": [],
   "source": [
    "def sort_contours(cnts, method=\"left-to-right\"):\n",
    "    reverse = False\n",
    "    i = 0\n",
    "    if method == \"right-to-left\" or method == \"bottom-to-top\":\n",
    "        reverse = True\n",
    "    if method == \"top-to-bottom\" or method == \"bottom-to-top\":\n",
    "        i = 1\n",
    "    boundingBoxes = [cv2.boundingRect(c) for c in cnts]\n",
    "    (cnts, boundingBoxes) = zip(*sorted(zip(cnts, boundingBoxes),\n",
    "                                        key=lambda b: b[1][i], reverse=reverse))\n",
    "    # return the list of sorted contours and bounding boxes\n",
    "    return (cnts, boundingBoxes)\n"
   ]
  },
  {
   "cell_type": "markdown",
   "metadata": {},
   "source": [
    "cv2.boundingRect(): this function of OpenCV is used to draw an approximate rectangle around the binary image. This function is used mainly to highlight the region of interest after obtaining contours from an image."
   ]
  },
  {
   "cell_type": "code",
   "execution_count": null,
   "metadata": {},
   "outputs": [],
   "source": [
    "def get_letters(img):\n",
    "    letters = []\n",
    "    image = cv2.imread(img)\n",
    "    gray = cv2.cvtColor(image, cv2.COLOR_BGR2GRAY)\n",
    "    ret, thresh1 = cv2.threshold(gray, 127, 255, cv2.THRESH_BINARY_INV)\n",
    "    dilated = cv2.dilate(thresh1, None, iterations=2)\n",
    "\n",
    "    cnts = cv2.findContours(\n",
    "        dilated.copy(), cv2.RETR_EXTERNAL, cv2.CHAIN_APPROX_SIMPLE)\n",
    "    cnts = imutils.grab_contours(cnts)\n",
    "    cnts = sort_contours(cnts, method=\"left-to-right\")[0]\n",
    "    # loop over the contours\n",
    "    for c in cnts:\n",
    "        if cv2.contourArea(c) > 10:\n",
    "            (x, y, w, h) = cv2.boundingRect(c)\n",
    "            cv2.rectangle(image, (x, y), (x + w, y + h), (0, 255, 0), 2)\n",
    "        roi = gray[y:y + h, x:x + w]\n",
    "        thresh = cv2.threshold(\n",
    "            roi, 0, 255, cv2.THRESH_BINARY_INV | cv2.THRESH_OTSU)[1]\n",
    "        thresh = cv2.resize(thresh, (32, 32), interpolation=cv2.INTER_CUBIC)\n",
    "        thresh = thresh.astype(\"float32\") / 255.0\n",
    "        thresh = np.expand_dims(thresh, axis=-1)\n",
    "        thresh = thresh.reshape(1, 32, 32, 1)\n",
    "        ypred = teat_model.predict(thresh)\n",
    "        ypred = LB.inverse_transform(ypred)\n",
    "        [x] = ypred\n",
    "        letters.append(x)\n",
    "    return letters, image\n",
    "\n",
    "#plt.imshow(image)\n"
   ]
  },
  {
   "cell_type": "markdown",
   "metadata": {},
   "source": [
    "cv.imread():loads an image from the specified file.\n",
    "\n",
    "cv.cvtColor():used to convert image from one colorspace to another.\n",
    "\n",
    "cv.COLOR_BGR2GRAY: converts from BGR to GRAY.\n",
    "\n",
    "cv.threshold(): is used to apply thresholding.\n",
    "\n",
    "cv.THRESH_BINARY: If pixel intensity is greater than the set threshold, value set to 255, else set to 0 (black).\n",
    "cv.THRESH_BINARY_INV: Inverted or Opposite case of cv2.THRESH_BINARY.\n",
    "\n",
    "cv.dilate(): In this method the maximum pixel is calculated and is overlapped with an anchor resulting in the areas of bright regions grow in size and hence the image size increases. the size of an object in white shade or bright shade increases, while the size of an object in black shade or dark shade decreases.\n",
    "\n",
    "cv.findContours(): finds the contours of an image.\n",
    "\n",
    "cv.RETR_EXTERNAL: retrieves only the extreme outer contours.\n",
    "\n",
    "cv.CHAIN_APPROX_SIMPLE: returns only the endpoints that are necessary for drawing the contour line.\n",
    "\n",
    "cv.contourArea(): this method computes a contour area.\n",
    "\n",
    "cv.rectangle(): used to draw rectangles on any image.\n",
    "\n",
    "cv.THRESH_OTSU:  iterating through all the possible threshold values and calculating a measure of spread for the pixel levels each side of the threshold, i.e. the pixels that either fall in foreground or background.\n",
    "\n",
    "cv.resize(): used to resize the image\n",
    "\n",
    "cv.INTER_CUBIC:This uses bicubic interpolation for resizing the image. While resizing and interpolating new pixels, this method acts on the 4×4 neighboring pixels of the image. It then takes the weights average of the 16 pixels to create the new interpolated pixel."
   ]
  },
  {
   "cell_type": "code",
   "execution_count": null,
   "metadata": {},
   "outputs": [],
   "source": [
    "def get_word(letter):\n",
    "    word = \"\".join(letter)\n",
    "    return word\n"
   ]
  }
 ],
 "metadata": {
  "interpreter": {
   "hash": "fa96ee635adf181aa2c5756204c9ffb28b39f770b96611b669c2f102fc2e169a"
  },
  "kernelspec": {
   "display_name": "Python 3.9.10 ('base')",
   "language": "python",
   "name": "python3"
  },
  "language_info": {
   "codemirror_mode": {
    "name": "ipython",
    "version": 3
   },
   "file_extension": ".py",
   "mimetype": "text/x-python",
   "name": "python",
   "nbconvert_exporter": "python",
   "pygments_lexer": "ipython3",
   "version": "3.9.10"
  },
  "orig_nbformat": 4
 },
 "nbformat": 4,
 "nbformat_minor": 2
}
